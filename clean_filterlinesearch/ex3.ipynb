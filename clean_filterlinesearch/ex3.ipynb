{
 "cells": [
  {
   "cell_type": "markdown",
   "id": "7bcec195",
   "metadata": {},
   "source": [
    "### Problem description\n",
    "\n",
    "Here we seek to solve\n",
    "\n",
    "\\begin{align*}\n",
    "\\min_{\\rho\\in H^{1}(\\Omega)}f(\\rho)&:=\\frac{1}{2}\\int_{\\Omega}\\nabla\\rho\\cdot\\nabla\\rho\\,\\mathrm{d}V\\\\\n",
    "\\Omega&=\\left(0,1\\right)\\subset\\mathbb{R}\n",
    "\\end{align*}\n",
    "\n",
    "such that\n",
    "\n",
    "\\begin{align*}\n",
    "\\int_{\\Omega}\\rho\\,\\mathrm{d}V&\\leq \\Omega_{f} \\\\\n",
    "\\rho(x=0)&=\\rho_{0} \\\\\n",
    "\\rho(x=1)&=\\rho_{1} \\\\\n",
    "\\rho(x)&\\geq \\rho_{\\ell}(x)\\quad x\\in\\overline{\\Omega}\n",
    "\\end{align*}\n",
    "\n",
    "We introduce a slack variable $y\\in\\mathbb{R}$, so that the equivalent reformulation is compatible with the structure of the developed filter line search software, that is we seek to solve\n",
    "\n",
    "\\begin{align*}\n",
    "\\min_{(\\rho,y)\\in H^{1}(\\Omega)\\times\\mathbb{R}}f(\\rho,y)&:=\\frac{1}{2}\\int_{\\Omega}\\nabla\\rho\\cdot\\nabla\\rho\\,\\mathrm{d}V\\\\\n",
    "\\Omega&=\\left(0,1\\right)\\subset\\mathbb{R}\n",
    "\\end{align*}\n",
    "\n",
    "such that\n",
    "\n",
    "\\begin{align*}\n",
    "\\int_{\\Omega}\\rho\\,\\mathrm{d}V+y-\\Omega_{f}&=0 \\\\\n",
    "\\rho(x=0)&=\\rho_{0} \\\\\n",
    "\\rho(x=1)&=\\rho_{1} \\\\\n",
    "\\rho(x)&\\geq \\rho_{\\ell}(x)\\quad x\\in\\overline{\\Omega} \\\\\n",
    "y &\\geq 0\n",
    "\\end{align*}\n",
    "\n",
    "\n"
   ]
  },
  {
   "cell_type": "code",
   "execution_count": 1,
   "id": "6523f90e",
   "metadata": {},
   "outputs": [],
   "source": [
    "import dolfin as dl\n",
    "import numpy as np\n",
    "import matplotlib.pyplot as plt\n",
    "from filterLineSearch import interior_pt\n",
    "from problems import example3\n",
    "from helperfunctions import grad_check"
   ]
  },
  {
   "cell_type": "code",
   "execution_count": 2,
   "id": "9902ab79",
   "metadata": {},
   "outputs": [],
   "source": [
    "nx = 20\n",
    "mesh = dl.UnitIntervalMesh(nx)\n",
    "Vh1 = dl.FunctionSpace(mesh, 'CG', 1)\n",
    "test = dl.TestFunction(Vh1)\n",
    "trial = dl.TrialFunction(Vh1)\n",
    "\n",
    "Kform = dl.inner(dl.grad(test), dl.grad(trial))*dl.dx(mesh)\n",
    "K     = dl.assemble(Kform).array()\n",
    "Mform = test * trial * dl.dx(mesh)\n",
    "M     = dl.assemble(Mform).array()"
   ]
  },
  {
   "cell_type": "code",
   "execution_count": 3,
   "id": "c75a52bd",
   "metadata": {},
   "outputs": [],
   "source": [
    "Omegaf = 0.1\n",
    "rhol   = 0.0*np.ones(Vh1.dim())\n",
    "rho0   = 0.05\n",
    "rho1   = 0.05   \n",
    "\n",
    "problem = example3(Vh1.dim(), K, M, rhol, Omegaf, rho0, rho1)"
   ]
  },
  {
   "cell_type": "code",
   "execution_count": 4,
   "id": "0ed1b89a",
   "metadata": {},
   "outputs": [
    {
     "data": {
      "image/png": "[encoded data removed]",
      "text/plain": [
       "<Figure size 432x288 with 1 Axes>"
      ]
     },
     "metadata": {
      "needs_background": "light"
     },
     "output_type": "display_data"
    }
   ],
   "source": [
    "#---- gradient checks\n",
    "\n",
    "x0    = 2. + np.abs(np.random.randn(problem.n))\n",
    "F     = lambda x : problem.c(x)\n",
    "gradF = lambda x : problem.Dxc(x)\n",
    "xhat = np.random.randn(problem.n)\n",
    "grad_check(F, gradF, x0, xhat)"
   ]
  },
  {
   "cell_type": "code",
   "execution_count": 5,
   "id": "13afb583",
   "metadata": {},
   "outputs": [
    {
     "name": "stdout",
     "output_type": "stream",
     "text": [
      "-------------------------------------------------- it = 0\n",
      "solved barrier problem (mu = 1.000e+00)\n",
      "solved barrier problem (mu = 5.000e-01)\n",
      "solved barrier problem (mu = 2.500e-01)\n",
      "-------------------------------------------------- determining search direction \n",
      "NO INERTIA CORRECTION WAS REQUIRED\n",
      "alpha = 5.808e-01, alphaz = 1.000e+00\n",
      "in filter region?  False\n",
      "A.5.4\n",
      "theta(x) = 2.33e+00\n",
      "angle between xhat and Dxphi = 35.4 (degrees)\n",
      "descent direction?  False\n",
      "theta(x) < theta_min?  False\n",
      "step accepted A-5.4 CASE II\n",
      "linesearch success?  True\n",
      "accepted trial point for the subproblem\n",
      "-------------------------------------------------- it = 1\n",
      "solved barrier problem (mu = 1.250e-01)\n",
      "-------------------------------------------------- determining search direction \n",
      "NO INERTIA CORRECTION WAS REQUIRED\n",
      "alpha = 4.218e-01, alphaz = 1.000e+00\n",
      "in filter region?  False\n",
      "A.5.4\n",
      "theta(x) = 9.76e-01\n",
      "angle between xhat and Dxphi = 87.9 (degrees)\n",
      "descent direction?  False\n",
      "theta(x) < theta_min?  False\n",
      "step accepted A-5.4 CASE II\n",
      "linesearch success?  True\n",
      "accepted trial point for the subproblem\n",
      "-------------------------------------------------- it = 2\n",
      "-------------------------------------------------- determining search direction \n",
      "NO INERTIA CORRECTION WAS REQUIRED\n",
      "alpha = 1.000e+00, alphaz = 1.000e+00\n",
      "in filter region?  False\n",
      "A.5.4\n",
      "theta(x) = 5.64e-01\n",
      "angle between xhat and Dxphi = 90.1 (degrees)\n",
      "descent direction?  True\n",
      "theta(x) < theta_min?  False\n",
      "step accepted A-5.4 CASE II\n",
      "linesearch success?  True\n",
      "accepted trial point for the subproblem\n",
      "-------------------------------------------------- it = 3\n",
      "solved barrier problem (mu = 4.419e-02)\n",
      "solved barrier problem (mu = 9.291e-03)\n",
      "-------------------------------------------------- determining search direction \n",
      "NO INERTIA CORRECTION WAS REQUIRED\n",
      "alpha = 1.000e+00, alphaz = 8.736e-01\n",
      "in filter region?  False\n",
      "A.5.4\n",
      "theta(x) = 2.63e-16\n",
      "angle between xhat and Dxphi = 114.8 (degrees)\n",
      "descent direction?  True\n",
      "theta(x) < theta_min?  True\n",
      "step accepted A-5.4 CASE I\n",
      "linesearch success?  True\n",
      "accepted trial point for the subproblem\n",
      "-------------------------------------------------- it = 4\n",
      "-------------------------------------------------- determining search direction \n",
      "NO INERTIA CORRECTION WAS REQUIRED\n",
      "alpha = 1.000e+00, alphaz = 7.353e-01\n",
      "in filter region?  False\n",
      "A.5.4\n",
      "theta(x) = 3.18e-17\n",
      "angle between xhat and Dxphi = 111.6 (degrees)\n",
      "descent direction?  True\n",
      "theta(x) < theta_min?  True\n",
      "step accepted A-5.4 CASE I\n",
      "linesearch success?  True\n",
      "accepted trial point for the subproblem\n",
      "-------------------------------------------------- it = 5\n",
      "-------------------------------------------------- determining search direction \n",
      "NO INERTIA CORRECTION WAS REQUIRED\n",
      "alpha = 1.000e+00, alphaz = 1.000e+00\n",
      "in filter region?  False\n",
      "A.5.4\n",
      "theta(x) = 6.94e-18\n",
      "angle between xhat and Dxphi = 99.6 (degrees)\n",
      "descent direction?  True\n",
      "theta(x) < theta_min?  True\n",
      "step accepted A-5.4 CASE I\n",
      "linesearch success?  True\n",
      "accepted trial point for the subproblem\n",
      "-------------------------------------------------- it = 6\n",
      "solved barrier problem (mu = 8.955e-04)\n",
      "-------------------------------------------------- determining search direction \n",
      "NO INERTIA CORRECTION WAS REQUIRED\n",
      "alpha = 1.000e+00, alphaz = 7.413e-01\n",
      "in filter region?  False\n",
      "A.5.4\n",
      "theta(x) = 0.00e+00\n",
      "angle between xhat and Dxphi = 104.4 (degrees)\n",
      "descent direction?  True\n",
      "theta(x) < theta_min?  True\n",
      "step accepted A-5.4 CASE I\n",
      "linesearch success?  True\n",
      "accepted trial point for the subproblem\n",
      "-------------------------------------------------- it = 7\n",
      "-------------------------------------------------- determining search direction \n",
      "NO INERTIA CORRECTION WAS REQUIRED\n",
      "alpha = 1.000e+00, alphaz = 1.000e+00\n",
      "in filter region?  False\n",
      "A.5.4\n",
      "theta(x) = 1.39e-17\n",
      "angle between xhat and Dxphi = 104.6 (degrees)\n",
      "descent direction?  True\n",
      "theta(x) < theta_min?  True\n",
      "step accepted A-5.4 CASE I\n",
      "linesearch success?  True\n",
      "accepted trial point for the subproblem\n",
      "-------------------------------------------------- it = 8\n",
      "solved barrier problem (mu = 2.680e-05)\n",
      "-------------------------------------------------- determining search direction \n",
      "NO INERTIA CORRECTION WAS REQUIRED\n",
      "alpha = 1.000e+00, alphaz = 9.719e-01\n",
      "in filter region?  False\n",
      "A.5.4\n",
      "theta(x) = 1.39e-17\n",
      "angle between xhat and Dxphi = 106.9 (degrees)\n",
      "descent direction?  True\n",
      "theta(x) < theta_min?  True\n",
      "step accepted A-5.4 CASE I\n",
      "linesearch success?  True\n",
      "accepted trial point for the subproblem\n",
      "-------------------------------------------------- it = 9\n",
      "-------------------------------------------------- determining search direction \n",
      "NO INERTIA CORRECTION WAS REQUIRED\n",
      "alpha = 1.000e+00, alphaz = 1.000e+00\n",
      "in filter region?  False\n",
      "A.5.4\n",
      "theta(x) = 0.00e+00\n",
      "angle between xhat and Dxphi = 107.4 (degrees)\n",
      "descent direction?  True\n",
      "theta(x) < theta_min?  True\n",
      "step accepted A-5.4 CASE I\n",
      "linesearch success?  True\n",
      "accepted trial point for the subproblem\n",
      "-------------------------------------------------- it = 10\n",
      "solved barrier problem (mu = 1.387e-07)\n",
      "-------------------------------------------------- determining search direction \n",
      "NO INERTIA CORRECTION WAS REQUIRED\n",
      "alpha = 1.000e+00, alphaz = 1.000e+00\n",
      "in filter region?  False\n",
      "A.5.4\n",
      "theta(x) = 0.00e+00\n",
      "angle between xhat and Dxphi = 106.4 (degrees)\n",
      "descent direction?  True\n",
      "theta(x) < theta_min?  True\n",
      "step accepted A-5.4 CASE I\n",
      "linesearch success?  True\n",
      "accepted trial point for the subproblem\n",
      "-------------------------------------------------- it = 11\n",
      "solved interior point problem\n"
     ]
    }
   ],
   "source": [
    "solver  = interior_pt(problem, \"direct\")\n",
    "\n",
    "x0      = 1. * np.ones(problem.n)\n",
    "X0      = [x0, np.ones(problem.m), np.ones(problem.n2)]\n",
    "solver.initialize(X0)\n",
    "complementarity0 = np.linalg.norm(X0[2][:]*(x0[problem.n1:] - problem.rhol[:]), np.inf)\n",
    "feasibility0     = problem.theta(x0)\n",
    "optimality0      = np.linalg.norm(problem.DxL(X0), 2)\n",
    "\n",
    "mu0 = 1.e0\n",
    "tol = 1.e-8\n",
    "max_it = 30\n",
    "Xf, mu, E, Mus = solver.solve(tol, max_it, mu0)\n",
    "\n"
   ]
  },
  {
   "cell_type": "code",
   "execution_count": 6,
   "id": "65b9e94f",
   "metadata": {},
   "outputs": [
    {
     "data": {
      "image/png": "[encoded data removed]",
      "text/plain": [
       "<Figure size 432x288 with 1 Axes>"
      ]
     },
     "metadata": {
      "needs_background": "light"
     },
     "output_type": "display_data"
    },
    {
     "name": "stdout",
     "output_type": "stream",
     "text": [
      "[0.05       0.05000001 0.05000002 0.05000002 0.05000003 0.05000004\n",
      " 0.05000004 0.05000004 0.05000005 0.05000005 0.05000005 0.05000005\n",
      " 0.05000005 0.05000004 0.05000004 0.05000004 0.05000003 0.05000002\n",
      " 0.05000002 0.05000001 0.05       0.04999997]\n"
     ]
    }
   ],
   "source": [
    "rhosolution = dl.Function(Vh1)\n",
    "rhosolution.vector().set_local(Xf[0][:-1])\n",
    "dl.plot(rhosolution)\n",
    "plt.show()\n",
    "print(Xf[0])"
   ]
  },
  {
   "cell_type": "code",
   "execution_count": 7,
   "id": "dfc9b1b4",
   "metadata": {},
   "outputs": [
    {
     "data": {
      "image/png": "[encoded data removed]",
      "text/plain": [
       "<Figure size 432x288 with 1 Axes>"
      ]
     },
     "metadata": {
      "needs_background": "light"
     },
     "output_type": "display_data"
    },
    {
     "data": {
      "image/png": "[encoded data removed]",
      "text/plain": [
       "<Figure size 432x288 with 1 Axes>"
      ]
     },
     "metadata": {
      "needs_background": "light"
     },
     "output_type": "display_data"
    },
    {
     "data": {
      "image/png": "[encoded data removed]",
      "text/plain": [
       "<Figure size 432x288 with 1 Axes>"
      ]
     },
     "metadata": {
      "needs_background": "light"
     },
     "output_type": "display_data"
    }
   ],
   "source": [
    "Es = [np.array([E[i][j] for i in range(len(E))]) for j in range(len(E[0]))]\n",
    "\n",
    "titles = [\"stationarity\", \"feasibility\", \"complementarity\"]\n",
    "for j in range(1,4):\n",
    "    plt.plot(Es[j], \"*\")\n",
    "    plt.title(titles[j-1] + \" history\")\n",
    "    plt.yscale('log')\n",
    "    plt.show()"
   ]
  },
  {
   "cell_type": "code",
   "execution_count": null,
   "id": "f4e45da9",
   "metadata": {},
   "outputs": [],
   "source": []
  }
 ],
 "metadata": {
  "kernelspec": {
   "display_name": "Python 3 (ipykernel)",
   "language": "python",
   "name": "python3"
  },
  "language_info": {
   "codemirror_mode": {
    "name": "ipython",
    "version": 3
   },
   "file_extension": ".py",
   "mimetype": "text/x-python",
   "name": "python",
   "nbconvert_exporter": "python",
   "pygments_lexer": "ipython3",
   "version": "3.9.0"
  }
 },
 "nbformat": 4,
 "nbformat_minor": 5
}
