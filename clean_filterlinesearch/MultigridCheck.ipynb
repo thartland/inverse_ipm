{
 "cells": [
  {
   "cell_type": "code",
   "execution_count": 1,
   "id": "ce79a4bb",
   "metadata": {},
   "outputs": [],
   "source": [
    "import numpy as np\n",
    "import matplotlib.pyplot as plt\n",
    "import scipy.sparse as sps\n",
    "import scipy.sparse.linalg as spla\n",
    "import dolfin as dl\n",
    "# False - natural ordering; True - interlace\n",
    "dl.parameters['reorder_dofs_serial'] = False\n",
    "\n",
    "\n",
    "from filterLineSearchSparse import interior_pt\n",
    "from hippylib import nb\n",
    "\n",
    "from helperfunctions import *"
   ]
  },
  {
   "cell_type": "code",
   "execution_count": 2,
   "id": "231fa3f5",
   "metadata": {},
   "outputs": [],
   "source": [
    "plt.style.use('classic')\n",
    "plt.rcParams.update({'font.size': 16})"
   ]
  },
  {
   "cell_type": "code",
   "execution_count": 13,
   "id": "f21e4ec1",
   "metadata": {},
   "outputs": [
    {
     "data": {
      "image/png": "[encoded data removed]",
      "text/plain": [
       "<Figure size 640x480 with 1 Axes>"
      ]
     },
     "metadata": {},
     "output_type": "display_data"
    }
   ],
   "source": [
    "nx_coarse = 8 \n",
    "nx = 16\n",
    "\n",
    "# coarse and fine meshes\n",
    "mesh_coarse = dl.UnitSquareMesh(nx_coarse, nx_coarse)\n",
    "\n",
    "mesh_fine   = dl.UnitSquareMesh(nx, nx)\n",
    "\n",
    "meshes = [mesh_coarse, mesh_fine]\n",
    "mesh   = meshes[-1]\n",
    "lvl    = len(meshes) # depth of mesh hierarchy\n",
    "dl.plot(mesh)\n",
    "plt.title('Mesh of PDE domain')\n",
    "plt.show()"
   ]
  },
  {
   "cell_type": "code",
   "execution_count": 14,
   "id": "e977f670",
   "metadata": {},
   "outputs": [],
   "source": [
    "P1s  = [dl.FiniteElement(\"CG\", meshes[i].ufl_cell(), 1) for i in range(lvl)]\n",
    "Vh1s = [dl.FunctionSpace(meshes[i], P1s[i]) for i in range(lvl)]"
   ]
  },
  {
   "cell_type": "code",
   "execution_count": 15,
   "id": "2ca82b5a",
   "metadata": {},
   "outputs": [],
   "source": [
    "class Boundary(dl.SubDomain):\n",
    "    def inside(self, x, on_boundary):\n",
    "        return (dl.near(x[0], 0.0) or dl.near(x[0], 1.0)) and on_boundary\n",
    "\n",
    "As = [None for i in range(lvl)]\n",
    "Ss = [None for i in range(lvl)]\n",
    "bs = [None for i in range(lvl)]\n",
    "for i, Vh1 in enumerate(Vh1s):\n",
    "    test  = dl.TestFunction(Vh1)\n",
    "    trial = dl.TrialFunction(Vh1)\n",
    "    aform = dl.inner(dl.grad(test),dl.grad(trial))*dl.dx(Vh1.mesh())\n",
    "    Lform = dl.Constant(1.0)*test*dl.dx(Vh1.mesh())\n",
    "    bc    = dl.DirichletBC(Vh1, dl.Constant(0.0), Boundary())\n",
    "    As[i], bs[i] = dl.assemble_system(aform, Lform, bc)\n",
    "    As[i] = csr_fenics2scipy(As[i])\n",
    "    bs[i] = bs[i][:]\n",
    "    Ss[i] = sps.diags(0.66/As[i].diagonal())    "
   ]
  },
  {
   "cell_type": "code",
   "execution_count": 16,
   "id": "7e91cac9",
   "metadata": {},
   "outputs": [],
   "source": [
    "P = csr_fenics2scipy(\\\n",
    "         dl.PETScDMCollection.create_transfer_matrix(\\\n",
    "         Vh1s[0], Vh1s[1]))\n",
    "R = P.transpose()"
   ]
  },
  {
   "cell_type": "code",
   "execution_count": 17,
   "id": "d533f2d1",
   "metadata": {},
   "outputs": [
    {
     "name": "stdout",
     "output_type": "stream",
     "text": [
      "final residual = 7.69e-09 (two-grid with coarse grid correction)\n",
      "final residual = 2.03e-05 (two-grid with no preconditioner)\n",
      "9\n",
      "50\n"
     ]
    }
   ],
   "source": [
    "smoothing_steps = 1\n",
    "two_grid_P = two_grid_action(As[1], As[0], Ss[1], P, R, smoothing_steps)\n",
    "\n",
    "krylov_convergence = Krylov_convergence(As[1], bs[1])\n",
    "krylov_convergence.reset()\n",
    "lintol=1.e-8\n",
    "maxiter=50\n",
    "\n",
    "\n",
    "\n",
    "u, info = spla.gmres(As[1], bs[1], tol=lintol, atol=lintol, \\\n",
    "                   M = two_grid_P, maxiter=maxiter, callback=krylov_convergence.callback)\n",
    "print(\"final residual = {0:1.2e} (two-grid with coarse grid correction)\".format(np.linalg.norm(As[1].dot(u)-bs[1])))\n",
    "residuals_twogrid = np.array(krylov_convergence.residuals).copy()\n",
    "krylov_convergence.reset()\n",
    "\n",
    "u, info = spla.gmres(As[1], bs[1], tol=lintol, atol=lintol, \\\n",
    "                   maxiter=maxiter, callback=krylov_convergence.callback)\n",
    "print(\"final residual = {0:1.2e} (two-grid with no preconditioner)\".format(np.linalg.norm(As[1].dot(u)-bs[1])))\n",
    "residuals_noP = np.array(krylov_convergence.residuals).copy()\n",
    "\n",
    "print(len(residuals_twogrid))\n",
    "print(len(residuals_noP))"
   ]
  },
  {
   "cell_type": "code",
   "execution_count": 18,
   "id": "3f8fe6e8",
   "metadata": {},
   "outputs": [
    {
     "name": "stdout",
     "output_type": "stream",
     "text": [
      "2.1939153233156845\n",
      "219.76433743750874\n"
     ]
    }
   ],
   "source": [
    "ei = np.zeros(two_grid_P.shape[0])\n",
    "PA = np.zeros(two_grid_P.shape)\n",
    "\n",
    "for i in range(two_grid_P.shape[0]):\n",
    "    ei[i] = 1.0\n",
    "    PA[:,i] = two_grid_P._matvec(As[1].dot(ei))\n",
    "    ei[i] = 0.0\n",
    "condPA = np.linalg.cond(PA)\n",
    "print(condPA)\n",
    "print(np.linalg.cond(As[1].todense()))"
   ]
  }
 ],
 "metadata": {
  "kernelspec": {
   "display_name": "Python 3 (ipykernel)",
   "language": "python",
   "name": "python3"
  },
  "language_info": {
   "codemirror_mode": {
    "name": "ipython",
    "version": 3
   },
   "file_extension": ".py",
   "mimetype": "text/x-python",
   "name": "python",
   "nbconvert_exporter": "python",
   "pygments_lexer": "ipython3",
   "version": "3.9.0"
  }
 },
 "nbformat": 4,
 "nbformat_minor": 5
}
